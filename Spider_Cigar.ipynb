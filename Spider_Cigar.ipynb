{
 "cells": [
  {
   "cell_type": "code",
   "execution_count": null,
   "metadata": {
    "scrolled": false
   },
   "outputs": [],
   "source": [
    "import urllib\n",
    "from bs4 import BeautifulSoup\n",
    "import re\n",
    "\n",
    "# url='https://lcdh-amsterdam.com/index.php?route=product/product&product_id=521'\n",
    "\n",
    "def spider_product_urls(main_url):\n",
    "    product_urls=[]\n",
    "\n",
    "    html=urllib.urlopen(main_url)\n",
    "    bsObj=BeautifulSoup(html)\n",
    "    obj_product_urls=bsObj.findAll({\"a\"},{\"class\":{\"list-group-item\"}})\n",
    "\n",
    "    for i in range(len(obj_product_urls)):\n",
    "        product_urls.append(obj_product_urls[i][\"href\"])\n",
    "\n",
    "    # product_avaialbity=bsObj.findAll(text=re.compile(\"https://lcdh-amsterdam.com/index.php?route=product/category&path=59\"))\n",
    "#     print (product_urls)\n",
    "#     print (len(product_urls))\n",
    "    del product_urls[0]\n",
    "    \n",
    "    return product_urls\n"
   ]
  },
  {
   "cell_type": "code",
   "execution_count": null,
   "metadata": {
    "scrolled": false
   },
   "outputs": [],
   "source": [
    "# product_url='https://lcdh-amsterdam.com/index.php?route=product/category&path=59_144'\n",
    "\n",
    "\n",
    "\n",
    "\n",
    "# url='https://lcdh-amsterdam.com/index.php?route=product/product&product_id=521'\n",
    "# product_url='https://lcdh-amsterdam.com/index.php?route=product/category&path=59_64'\n",
    "\n",
    "def spider_subproduct_urls(product_url):\n",
    "    sub_product_urls=[]\n",
    "\n",
    "    html=urllib.urlopen(product_url)\n",
    "    bsObj=BeautifulSoup(html)\n",
    "    try:\n",
    "        page = int(bsObj.findAll({\"div\"},{\"class\":{\"col-sm-6 text-right\"}})[0].get_text()[-8:-7])\n",
    "    #     print (page)\n",
    "\n",
    "        for p in range(page):\n",
    "            product_page_url=product_url+'&page='+(str)(p+1)\n",
    "    #         print (product_page_url)\n",
    "            html=urllib.urlopen(product_page_url)\n",
    "            bsObj=BeautifulSoup(html)\n",
    "            obj_subproduct_hs=bsObj.findAll({\"h4\"})\n",
    "            for obj_subproduct_h in obj_subproduct_hs:\n",
    "                obj_subproduct_a=obj_subproduct_h.findAll({\"a\"})[0][\"href\"]\n",
    "    #             print (obj_subproduct_a)\n",
    "                sub_product_urls.append(obj_subproduct_a)\n",
    "    except:\n",
    "        pass\n",
    "    \n",
    "    \n",
    "#     for i in range(len(obj_product_urls)):\n",
    "#         sub_product_urls.append(obj_product_urls[i][\"href\"])\n",
    "\n",
    "    # product_avaialbity=bsObj.findAll(text=re.compile(\"https://lcdh-amsterdam.com/index.php?route=product/category&path=59\"))\n",
    "#     print (product_urls)\n",
    "#     print (len(product_urls))\n",
    "#     del product_urls[0]\n",
    "    \n",
    "    return sub_product_urls\n",
    "\n",
    "# sub_product_urls= spider_subproduct_urls(product_url)"
   ]
  },
  {
   "cell_type": "code",
   "execution_count": null,
   "metadata": {
    "scrolled": false
   },
   "outputs": [],
   "source": [
    "\n",
    "\n",
    "# url='https://lcdh-amsterdam.com/index.php?route=product/product&product_id=521'\n",
    "# sub_product_url='https://lcdh-amsterdam.com/index.php?route=product/product&path=59_91&product_id=100'\n",
    "\n",
    "def spider_stock_stage(sub_product_url):\n",
    "    html=urllib.urlopen(sub_product_url)\n",
    "    bsObj=BeautifulSoup(html)\n",
    "    product_name=bsObj.findAll({\"h1\"})[0].get_text()\n",
    "    product_avaialbity=bsObj.findAll(text=re.compile(\"Availability\"))[0]\n",
    "#     print (product_avaialbity)\n",
    "    # print (bsObj)\n",
    "    product_name =product_name\n",
    "    print (product_name)\n",
    "    return product_name,product_avaialbity[14:],sub_product_url\n",
    "\n",
    "\n",
    "# product_name,product_avaialbity,sub_product_url=spider_stock_stage(sub_product_url)\n",
    "\n",
    "# print (product_name,product_avaialbity,sub_product_url)\n",
    "\n"
   ]
  },
  {
   "cell_type": "code",
   "execution_count": null,
   "metadata": {},
   "outputs": [],
   "source": []
  },
  {
   "cell_type": "code",
   "execution_count": null,
   "metadata": {},
   "outputs": [],
   "source": [
    "import time\n",
    "\n",
    "main_url='https://lcdh-amsterdam.com/index.php?route=product/category&path=59'\n",
    "\n",
    "product_urls=spider_product_urls(main_url)\n",
    "sub_product_urls=[]\n",
    "for product_url in product_urls[:]:\n",
    "    time.sleep(0.5)\n",
    "    print (product_url)\n",
    "    obj_sub_product_urls= spider_subproduct_urls(product_url)\n",
    "    sub_product_urls =sub_product_urls + obj_sub_product_urls\n",
    "\n",
    "sub_product_urls\n",
    "\n"
   ]
  },
  {
   "cell_type": "code",
   "execution_count": null,
   "metadata": {},
   "outputs": [],
   "source": [
    "import csv\n",
    "with open('./Desktop/product.csv', 'wb') as csvfile:\n",
    "    writer = csv.writer(csvfile)\n",
    "    writer.writerow(['product_name','product_avaialbity','product_url'])\n",
    "    for sub_product_url in sub_product_urls[:1]:\n",
    "        time.sleep(0.3)\n",
    "        product_name,product_avaialbity,sub_product_url=spider_stock_stage(sub_product_url)\n",
    "        writer.writerow([product_name,product_avaialbity,sub_product_url])\n",
    "        print (product_name,product_avaialbity,sub_product_url)"
   ]
  }
 ],
 "metadata": {
  "kernelspec": {
   "display_name": "Python 2",
   "language": "python",
   "name": "python2"
  },
  "language_info": {
   "codemirror_mode": {
    "name": "ipython",
    "version": 2
   },
   "file_extension": ".py",
   "mimetype": "text/x-python",
   "name": "python",
   "nbconvert_exporter": "python",
   "pygments_lexer": "ipython2",
   "version": "2.7.15"
  }
 },
 "nbformat": 4,
 "nbformat_minor": 2
}
